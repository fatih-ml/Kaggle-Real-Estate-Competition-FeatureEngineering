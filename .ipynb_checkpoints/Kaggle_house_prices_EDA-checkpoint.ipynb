{
 "cells": [
  {
   "cell_type": "markdown",
   "id": "34206f71-bab5-4d72-b81c-5f9a58dce64f",
   "metadata": {},
   "source": [
    "# KAGGLE: House Prices Explarotary Data Analysis"
   ]
  },
  {
   "cell_type": "markdown",
   "id": "1107ff38-e0b2-431c-adfa-2ec7341c7748",
   "metadata": {},
   "source": [
    "Takim olarak, Kaggle'daki meshur projelerden birisi olan 'House Prices' veri seti uzerinde Kesifci Veri Analizi (EDA) uygulayacagiz.\n",
    "\n",
    "Bu proje, detaylı bir Keşifsel Veri Analizi (EDA) gerçekleştirerek başlayacak ve ardından veri ön işleme adımlarını tamamlayarak veri setimizi makine öğrenmesi modellemesi için hazırlayacak bir takım projesidir.\n",
    "\n",
    "Projeyle ilgili daha detayli bilgi icin Kaggle sayfasina linkten ulasabilirsiniz. https://www.kaggle.com/competitions/house-prices-advanced-regression-techniques"
   ]
  },
  {
   "cell_type": "markdown",
   "id": "63ce1eb9-f117-4943-8b26-686aa94a9877",
   "metadata": {},
   "source": [
    "__Proje kapsaminda yapilacak bir takim gorevler:__\n",
    "\n",
    "* Veri on inceleme\n",
    "* Eksik verilerle basa cikilmasi\n",
    "* Outlierlar ile basa cikilmasi\n",
    "* Feature Engineering (Ozellik muhendisligi)\n",
    "* Istatistiksel analizler ve veri gorsellestirme\n",
    "* Encoding\n",
    "* Standardizasyon ve Normalizasyon\n",
    "* High - Low Cardinality tespit edilmesi\n",
    "* Multicollinearity tespit edilmesi\n",
    "* Logarithmic Donusum (Log Transormation)\n",
    "* Github uzerinden takimca calisma becerileri"
   ]
  },
  {
   "cell_type": "code",
   "execution_count": 1,
   "id": "e8d9b2b6-ece8-46e3-8388-8ca69b712ccc",
   "metadata": {
    "tags": []
   },
   "outputs": [],
   "source": [
    "import pandas as pd\n",
    "import numpy as np\n",
    "import matplotlib.pyplot as plt\n",
    "import seaborn as sns\n",
    "\n",
    "import warnings\n",
    "warnings.filterwarnings('ignore')"
   ]
  },
  {
   "cell_type": "code",
   "execution_count": 2,
   "id": "9075f7e2-27ee-4d15-8dbf-18dd5c0f75dd",
   "metadata": {
    "tags": []
   },
   "outputs": [],
   "source": [
    "df1 = pd.read_csv('house_prices_reduced.csv')"
   ]
  },
  {
   "cell_type": "code",
   "execution_count": 3,
   "id": "32e77264-447e-4c8e-b943-89e139d3f8e9",
   "metadata": {},
   "outputs": [
    {
     "name": "stdout",
     "output_type": "stream",
     "text": [
      "<class 'pandas.core.frame.DataFrame'>\n",
      "RangeIndex: 1460 entries, 0 to 1459\n",
      "Data columns (total 47 columns):\n",
      " #   Column         Non-Null Count  Dtype  \n",
      "---  ------         --------------  -----  \n",
      " 0   Id             1460 non-null   int64  \n",
      " 1   LotArea        1460 non-null   int64  \n",
      " 2   Neighborhood   1460 non-null   object \n",
      " 3   HouseStyle     1460 non-null   object \n",
      " 4   OverallQual    1460 non-null   int64  \n",
      " 5   OverallCond    1460 non-null   int64  \n",
      " 6   YearBuilt      1460 non-null   int64  \n",
      " 7   YearRemodAdd   1460 non-null   int64  \n",
      " 8   BsmtQual       1423 non-null   object \n",
      " 9   BsmtCond       1423 non-null   object \n",
      " 10  BsmtExposure   1422 non-null   object \n",
      " 11  BsmtFinType1   1423 non-null   object \n",
      " 12  BsmtFinSF1     1460 non-null   int64  \n",
      " 13  BsmtFinType2   1422 non-null   object \n",
      " 14  BsmtFinSF2     1460 non-null   int64  \n",
      " 15  BsmtUnfSF      1460 non-null   int64  \n",
      " 16  TotalBsmtSF    1460 non-null   int64  \n",
      " 17  1stFlrSF       1460 non-null   int64  \n",
      " 18  2ndFlrSF       1460 non-null   int64  \n",
      " 19  GrLivArea      1460 non-null   int64  \n",
      " 20  BsmtFullBath   1460 non-null   int64  \n",
      " 21  BsmtHalfBath   1460 non-null   int64  \n",
      " 22  FullBath       1460 non-null   int64  \n",
      " 23  HalfBath       1460 non-null   int64  \n",
      " 24  BedroomAbvGr   1460 non-null   int64  \n",
      " 25  KitchenQual    1460 non-null   object \n",
      " 26  TotRmsAbvGrd   1460 non-null   int64  \n",
      " 27  GarageType     1379 non-null   object \n",
      " 28  GarageYrBlt    1379 non-null   float64\n",
      " 29  GarageFinish   1379 non-null   object \n",
      " 30  GarageCars     1460 non-null   int64  \n",
      " 31  GarageArea     1460 non-null   int64  \n",
      " 32  GarageQual     1379 non-null   object \n",
      " 33  GarageCond     1379 non-null   object \n",
      " 34  WoodDeckSF     1460 non-null   int64  \n",
      " 35  OpenPorchSF    1460 non-null   int64  \n",
      " 36  EnclosedPorch  1460 non-null   int64  \n",
      " 37  3SsnPorch      1460 non-null   int64  \n",
      " 38  ScreenPorch    1460 non-null   int64  \n",
      " 39  PoolArea       1460 non-null   int64  \n",
      " 40  PoolQC         7 non-null      object \n",
      " 41  Fence          281 non-null    object \n",
      " 42  MoSold         1460 non-null   int64  \n",
      " 43  YrSold         1460 non-null   int64  \n",
      " 44  SaleCondition  1460 non-null   object \n",
      " 45  SalePrice      1460 non-null   int64  \n",
      " 46  SaleType       1460 non-null   object \n",
      "dtypes: float64(1), int64(30), object(16)\n",
      "memory usage: 536.2+ KB\n"
     ]
    }
   ],
   "source": [
    "df1.info()"
   ]
  },
  {
   "cell_type": "code",
   "execution_count": null,
   "id": "3c5304d4-d177-4695-a6ae-ca6baffde580",
   "metadata": {},
   "outputs": [],
   "source": []
  }
 ],
 "metadata": {
  "kernelspec": {
   "display_name": "Python 3 (ipykernel)",
   "language": "python",
   "name": "python3"
  },
  "language_info": {
   "codemirror_mode": {
    "name": "ipython",
    "version": 3
   },
   "file_extension": ".py",
   "mimetype": "text/x-python",
   "name": "python",
   "nbconvert_exporter": "python",
   "pygments_lexer": "ipython3",
   "version": "3.10.8"
  }
 },
 "nbformat": 4,
 "nbformat_minor": 5
}
