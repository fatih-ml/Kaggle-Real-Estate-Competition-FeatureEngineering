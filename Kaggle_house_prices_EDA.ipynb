{
 "cells": [
  {
   "cell_type": "markdown",
   "id": "34206f71-bab5-4d72-b81c-5f9a58dce64f",
   "metadata": {},
   "source": [
    "# KAGGLE: House Prices Explarotary Data Analysis"
   ]
  },
  {
   "cell_type": "markdown",
   "id": "e9c287ff-39e1-48be-a1a5-530553e4efb9",
   "metadata": {
    "tags": []
   },
   "source": [
    "# 1. Introduction and Problem Statement"
   ]
  },
  {
   "cell_type": "markdown",
   "id": "1107ff38-e0b2-431c-adfa-2ec7341c7748",
   "metadata": {},
   "source": [
    "Takim olarak, **Kaggle**'daki meshur projelerden birisi olan **'House Prices'** veri seti uzerinde calisacagiz.\n",
    "\n",
    "Bu proje, detaylı bir Keşifsel Veri Analizi (EDA) gerçekleştirerek başlayacak, ardından veri ön işleme adımlarını tamamlayarak veri setimizi makine öğrenmesi modellemesi için hazırlayacak ve sonrasinda da farkli algoritmalari ve makine ogrenmesi modellerini tatbik edecegimiz **bir takım projesidir.**"
   ]
  },
  {
   "cell_type": "markdown",
   "id": "c8817b11-7d71-4a60-8d97-f1a9b27b31fb",
   "metadata": {
    "tags": []
   },
   "source": [
    "Bu Kaggle projesi, **konut fiyatlarının tahmin edilmesi üzerine odaklanmaktadır.** Veri seti, farklı ev özelliklerini içeren geniş bir veri kümesini içermektedir. Özellikler arasında evin büyüklüğü, oda sayısı, konum gibi faktörler bulunmaktadır. Amacımız, bu özelliklerin bir evin fiyatını **nasıl etkilediğini belirlemek** ve bu bilgiyi kullanarak gelecekteki ev fiyatlarını tahmin etmektir.\n",
    "\n",
    "Yarışmanın amacı, katılımcıların belirtilen veri kümesi üzerinde bir makine öğrenmesi modeli geliştirerek, verilen ev özelliklerine dayanarak bir evin fiyatını en doğru şekilde tahmin etmeleridir. Bu proje, veri bilimi becerilerinizi geliştirmek, yeteneklerinizi sergilemek ve literature butunsel bir katki saglamak **için mükemmel bir fırsat sunmaktadir**. Ayrıca, farklı makine öğrenmesi tekniklerini uygulama ve model performansını değerlendirme fırsatı sunmaktadır. Katılımcılar olarak özellik mühendisliği, model seçimi ve değerlendirmesi gibi kritik veri bilimi becerilerini uygulama şansına sahip olacagiz."
   ]
  },
  {
   "cell_type": "markdown",
   "id": "4d7abd3b-f517-4b98-93f3-f21060e9de65",
   "metadata": {},
   "source": [
    "Projeyle ilgili daha detayli bilgi icin Kaggle sayfasina linkten ulasabilirsiniz. https://www.kaggle.com/competitions/house-prices-advanced-regression-techniques"
   ]
  },
  {
   "cell_type": "markdown",
   "id": "63ce1eb9-f117-4943-8b26-686aa94a9877",
   "metadata": {},
   "source": [
    "#### __Proje kapsaminda yapilacak bir takim gorevler:__\n",
    "\n",
    "* Veri on inceleme\n",
    "* Eksik verilerle basa cikilmasi  -  nur - seda       \n",
    "* Outlierlar ile basa cikilmasi  -  fatih              \n",
    "* Feature Engineering (Ozellik muhendisligi) -     busra + zubeyde + fatih + cuneyt emre\n",
    "* Istatistiksel analizler ve veri gorsellestirme  - seda nur \n",
    "* Encoding     -- burak\n",
    "* Standardizasyon ve Normalizasyon -- burak\n",
    "* High - Low Cardinality tespit edilmesi - tuba \n",
    "* Multicollinearity tespit edilmesi   - tuba\n",
    "* Logarithmic Donusum (Log Transormation)  - fatih\n",
    "* Github uzerinden takimca calisma becerileri"
   ]
  },
  {
   "cell_type": "markdown",
   "id": "4704a380-2568-4383-874b-3098ff66fa10",
   "metadata": {},
   "source": [
    "**ILAVE NOT**\n",
    "projedeki en onemli kazanimlardan birisi de baskalarinin da anlayabilecegi ve YENIDEN kullanmasi kolay kod bloklari olusturmaktir."
   ]
  },
  {
   "cell_type": "markdown",
   "id": "6c100fde-406b-484c-ac88-ea484a4de823",
   "metadata": {},
   "source": [
    "**Is akisi**\n",
    "- Herkes veriyi ve projeyi genel anlamda inceleyecek\n",
    "- Missing value bolumu tamamlaninca buraya kodlari eklenecek\n",
    "- sonrasinda herkes githubtan dosyayi yeni bir branch ile kaydedecek\n",
    "- kendi bolumunuz uzerinde aciklama ve kod kisimlarini doldurabilirsiniz\n",
    "- sonrasinda tum calismayi birlestirecegiz\n",
    "\n",
    "- Lutfen oneri ve tavsiyelerimizi sunalim arkadaslar"
   ]
  },
  {
   "cell_type": "markdown",
   "id": "ed1631d1-a201-4667-ba52-1c0caa13366e",
   "metadata": {
    "tags": []
   },
   "source": [
    "# 2. Data Overview"
   ]
  },
  {
   "cell_type": "code",
   "execution_count": 1,
   "id": "e8d9b2b6-ece8-46e3-8388-8ca69b712ccc",
   "metadata": {
    "tags": []
   },
   "outputs": [],
   "source": [
    "import pandas as pd\n",
    "import numpy as np\n",
    "import matplotlib.pyplot as plt\n",
    "import seaborn as sns\n",
    "\n",
    "import warnings\n",
    "warnings.filterwarnings('ignore')"
   ]
  },
  {
   "cell_type": "code",
   "execution_count": 5,
   "id": "f2863b84-d078-4c93-8433-8544a115a6aa",
   "metadata": {
    "tags": []
   },
   "outputs": [],
   "source": [
    "pd.set_option('Display.max_columns', None)"
   ]
  },
  {
   "cell_type": "code",
   "execution_count": 2,
   "id": "9075f7e2-27ee-4d15-8dbf-18dd5c0f75dd",
   "metadata": {
    "tags": []
   },
   "outputs": [],
   "source": [
    "df1 = pd.read_csv('house_prices_reduced.csv')"
   ]
  },
  {
   "cell_type": "code",
   "execution_count": 3,
   "id": "17e8bf3d-801a-486b-80ae-e4f594f6ef54",
   "metadata": {},
   "outputs": [
    {
     "data": {
      "text/html": [
       "<div>\n",
       "<style scoped>\n",
       "    .dataframe tbody tr th:only-of-type {\n",
       "        vertical-align: middle;\n",
       "    }\n",
       "\n",
       "    .dataframe tbody tr th {\n",
       "        vertical-align: top;\n",
       "    }\n",
       "\n",
       "    .dataframe thead th {\n",
       "        text-align: right;\n",
       "    }\n",
       "</style>\n",
       "<table border=\"1\" class=\"dataframe\">\n",
       "  <thead>\n",
       "    <tr style=\"text-align: right;\">\n",
       "      <th></th>\n",
       "      <th>Id</th>\n",
       "      <th>LotArea</th>\n",
       "      <th>Neighborhood</th>\n",
       "      <th>HouseStyle</th>\n",
       "      <th>OverallQual</th>\n",
       "      <th>OverallCond</th>\n",
       "      <th>YearBuilt</th>\n",
       "      <th>YearRemodAdd</th>\n",
       "      <th>BsmtQual</th>\n",
       "      <th>BsmtCond</th>\n",
       "      <th>...</th>\n",
       "      <th>3SsnPorch</th>\n",
       "      <th>ScreenPorch</th>\n",
       "      <th>PoolArea</th>\n",
       "      <th>PoolQC</th>\n",
       "      <th>Fence</th>\n",
       "      <th>MoSold</th>\n",
       "      <th>YrSold</th>\n",
       "      <th>SaleCondition</th>\n",
       "      <th>SalePrice</th>\n",
       "      <th>SaleType</th>\n",
       "    </tr>\n",
       "  </thead>\n",
       "  <tbody>\n",
       "    <tr>\n",
       "      <th>0</th>\n",
       "      <td>1</td>\n",
       "      <td>8450</td>\n",
       "      <td>CollgCr</td>\n",
       "      <td>2Story</td>\n",
       "      <td>7</td>\n",
       "      <td>5</td>\n",
       "      <td>2003</td>\n",
       "      <td>2003</td>\n",
       "      <td>Gd</td>\n",
       "      <td>TA</td>\n",
       "      <td>...</td>\n",
       "      <td>0</td>\n",
       "      <td>0</td>\n",
       "      <td>0</td>\n",
       "      <td>NaN</td>\n",
       "      <td>NaN</td>\n",
       "      <td>2</td>\n",
       "      <td>2008</td>\n",
       "      <td>Normal</td>\n",
       "      <td>208500</td>\n",
       "      <td>WD</td>\n",
       "    </tr>\n",
       "    <tr>\n",
       "      <th>1</th>\n",
       "      <td>2</td>\n",
       "      <td>9600</td>\n",
       "      <td>Veenker</td>\n",
       "      <td>1Story</td>\n",
       "      <td>6</td>\n",
       "      <td>8</td>\n",
       "      <td>1976</td>\n",
       "      <td>1976</td>\n",
       "      <td>Gd</td>\n",
       "      <td>TA</td>\n",
       "      <td>...</td>\n",
       "      <td>0</td>\n",
       "      <td>0</td>\n",
       "      <td>0</td>\n",
       "      <td>NaN</td>\n",
       "      <td>NaN</td>\n",
       "      <td>5</td>\n",
       "      <td>2007</td>\n",
       "      <td>Normal</td>\n",
       "      <td>181500</td>\n",
       "      <td>WD</td>\n",
       "    </tr>\n",
       "    <tr>\n",
       "      <th>2</th>\n",
       "      <td>3</td>\n",
       "      <td>11250</td>\n",
       "      <td>CollgCr</td>\n",
       "      <td>2Story</td>\n",
       "      <td>7</td>\n",
       "      <td>5</td>\n",
       "      <td>2001</td>\n",
       "      <td>2002</td>\n",
       "      <td>Gd</td>\n",
       "      <td>TA</td>\n",
       "      <td>...</td>\n",
       "      <td>0</td>\n",
       "      <td>0</td>\n",
       "      <td>0</td>\n",
       "      <td>NaN</td>\n",
       "      <td>NaN</td>\n",
       "      <td>9</td>\n",
       "      <td>2008</td>\n",
       "      <td>Normal</td>\n",
       "      <td>223500</td>\n",
       "      <td>WD</td>\n",
       "    </tr>\n",
       "    <tr>\n",
       "      <th>3</th>\n",
       "      <td>4</td>\n",
       "      <td>9550</td>\n",
       "      <td>Crawfor</td>\n",
       "      <td>2Story</td>\n",
       "      <td>7</td>\n",
       "      <td>5</td>\n",
       "      <td>1915</td>\n",
       "      <td>1970</td>\n",
       "      <td>TA</td>\n",
       "      <td>Gd</td>\n",
       "      <td>...</td>\n",
       "      <td>0</td>\n",
       "      <td>0</td>\n",
       "      <td>0</td>\n",
       "      <td>NaN</td>\n",
       "      <td>NaN</td>\n",
       "      <td>2</td>\n",
       "      <td>2006</td>\n",
       "      <td>Abnorml</td>\n",
       "      <td>140000</td>\n",
       "      <td>WD</td>\n",
       "    </tr>\n",
       "    <tr>\n",
       "      <th>4</th>\n",
       "      <td>5</td>\n",
       "      <td>14260</td>\n",
       "      <td>NoRidge</td>\n",
       "      <td>2Story</td>\n",
       "      <td>8</td>\n",
       "      <td>5</td>\n",
       "      <td>2000</td>\n",
       "      <td>2000</td>\n",
       "      <td>Gd</td>\n",
       "      <td>TA</td>\n",
       "      <td>...</td>\n",
       "      <td>0</td>\n",
       "      <td>0</td>\n",
       "      <td>0</td>\n",
       "      <td>NaN</td>\n",
       "      <td>NaN</td>\n",
       "      <td>12</td>\n",
       "      <td>2008</td>\n",
       "      <td>Normal</td>\n",
       "      <td>250000</td>\n",
       "      <td>WD</td>\n",
       "    </tr>\n",
       "  </tbody>\n",
       "</table>\n",
       "<p>5 rows × 47 columns</p>\n",
       "</div>"
      ],
      "text/plain": [
       "   Id  LotArea Neighborhood HouseStyle  OverallQual  OverallCond  YearBuilt  \\\n",
       "0   1     8450      CollgCr     2Story            7            5       2003   \n",
       "1   2     9600      Veenker     1Story            6            8       1976   \n",
       "2   3    11250      CollgCr     2Story            7            5       2001   \n",
       "3   4     9550      Crawfor     2Story            7            5       1915   \n",
       "4   5    14260      NoRidge     2Story            8            5       2000   \n",
       "\n",
       "   YearRemodAdd BsmtQual BsmtCond  ... 3SsnPorch ScreenPorch  PoolArea PoolQC  \\\n",
       "0          2003       Gd       TA  ...         0           0         0    NaN   \n",
       "1          1976       Gd       TA  ...         0           0         0    NaN   \n",
       "2          2002       Gd       TA  ...         0           0         0    NaN   \n",
       "3          1970       TA       Gd  ...         0           0         0    NaN   \n",
       "4          2000       Gd       TA  ...         0           0         0    NaN   \n",
       "\n",
       "   Fence  MoSold  YrSold  SaleCondition  SalePrice  SaleType  \n",
       "0    NaN       2    2008         Normal     208500        WD  \n",
       "1    NaN       5    2007         Normal     181500        WD  \n",
       "2    NaN       9    2008         Normal     223500        WD  \n",
       "3    NaN       2    2006        Abnorml     140000        WD  \n",
       "4    NaN      12    2008         Normal     250000        WD  \n",
       "\n",
       "[5 rows x 47 columns]"
      ]
     },
     "execution_count": 3,
     "metadata": {},
     "output_type": "execute_result"
    }
   ],
   "source": [
    "df1.head()"
   ]
  },
  {
   "cell_type": "markdown",
   "id": "b0e7ad73-33b6-4f03-b37b-69f47952dc90",
   "metadata": {},
   "source": [
    "# 3. Data Preprocessing"
   ]
  },
  {
   "cell_type": "markdown",
   "id": "eba871d3-b568-4f60-829c-7ab643da52fe",
   "metadata": {
    "tags": []
   },
   "source": [
    "## 3.1. Handling Missing Values"
   ]
  },
  {
   "cell_type": "markdown",
   "id": "ce2ba179-73ef-4461-8cba-c6b231502222",
   "metadata": {
    "tags": []
   },
   "source": [
    "**A Brief Explanation of the approach**\n",
    "\n",
    "........  \n",
    "........  \n",
    "........"
   ]
  },
  {
   "cell_type": "markdown",
   "id": "91087498-8434-4d00-b82c-95f9902e1f7f",
   "metadata": {},
   "source": [
    "**Codes with very short explanations, if needed**"
   ]
  },
  {
   "cell_type": "code",
   "execution_count": 4,
   "id": "f18796ec-6f4d-4322-bac7-568bb2f8b87f",
   "metadata": {
    "scrolled": true,
    "tags": []
   },
   "outputs": [
    {
     "name": "stdout",
     "output_type": "stream",
     "text": [
      "<class 'pandas.core.frame.DataFrame'>\n",
      "RangeIndex: 1460 entries, 0 to 1459\n",
      "Data columns (total 47 columns):\n",
      " #   Column         Non-Null Count  Dtype  \n",
      "---  ------         --------------  -----  \n",
      " 0   Id             1460 non-null   int64  \n",
      " 1   LotArea        1460 non-null   int64  \n",
      " 2   Neighborhood   1460 non-null   object \n",
      " 3   HouseStyle     1460 non-null   object \n",
      " 4   OverallQual    1460 non-null   int64  \n",
      " 5   OverallCond    1460 non-null   int64  \n",
      " 6   YearBuilt      1460 non-null   int64  \n",
      " 7   YearRemodAdd   1460 non-null   int64  \n",
      " 8   BsmtQual       1423 non-null   object \n",
      " 9   BsmtCond       1423 non-null   object \n",
      " 10  BsmtExposure   1422 non-null   object \n",
      " 11  BsmtFinType1   1423 non-null   object \n",
      " 12  BsmtFinSF1     1460 non-null   int64  \n",
      " 13  BsmtFinType2   1422 non-null   object \n",
      " 14  BsmtFinSF2     1460 non-null   int64  \n",
      " 15  BsmtUnfSF      1460 non-null   int64  \n",
      " 16  TotalBsmtSF    1460 non-null   int64  \n",
      " 17  1stFlrSF       1460 non-null   int64  \n",
      " 18  2ndFlrSF       1460 non-null   int64  \n",
      " 19  GrLivArea      1460 non-null   int64  \n",
      " 20  BsmtFullBath   1460 non-null   int64  \n",
      " 21  BsmtHalfBath   1460 non-null   int64  \n",
      " 22  FullBath       1460 non-null   int64  \n",
      " 23  HalfBath       1460 non-null   int64  \n",
      " 24  BedroomAbvGr   1460 non-null   int64  \n",
      " 25  KitchenQual    1460 non-null   object \n",
      " 26  TotRmsAbvGrd   1460 non-null   int64  \n",
      " 27  GarageType     1379 non-null   object \n",
      " 28  GarageYrBlt    1379 non-null   float64\n",
      " 29  GarageFinish   1379 non-null   object \n",
      " 30  GarageCars     1460 non-null   int64  \n",
      " 31  GarageArea     1460 non-null   int64  \n",
      " 32  GarageQual     1379 non-null   object \n",
      " 33  GarageCond     1379 non-null   object \n",
      " 34  WoodDeckSF     1460 non-null   int64  \n",
      " 35  OpenPorchSF    1460 non-null   int64  \n",
      " 36  EnclosedPorch  1460 non-null   int64  \n",
      " 37  3SsnPorch      1460 non-null   int64  \n",
      " 38  ScreenPorch    1460 non-null   int64  \n",
      " 39  PoolArea       1460 non-null   int64  \n",
      " 40  PoolQC         7 non-null      object \n",
      " 41  Fence          281 non-null    object \n",
      " 42  MoSold         1460 non-null   int64  \n",
      " 43  YrSold         1460 non-null   int64  \n",
      " 44  SaleCondition  1460 non-null   object \n",
      " 45  SalePrice      1460 non-null   int64  \n",
      " 46  SaleType       1460 non-null   object \n",
      "dtypes: float64(1), int64(30), object(16)\n",
      "memory usage: 536.2+ KB\n"
     ]
    }
   ],
   "source": [
    "df1.info()"
   ]
  },
  {
   "cell_type": "code",
   "execution_count": 6,
   "id": "bb17a01b-ade6-4424-81cf-affc3116c565",
   "metadata": {
    "scrolled": true,
    "tags": []
   },
   "outputs": [
    {
     "data": {
      "text/plain": [
       "['BsmtQual',\n",
       " 'BsmtCond',\n",
       " 'BsmtExposure',\n",
       " 'BsmtFinType1',\n",
       " 'BsmtFinType2',\n",
       " 'GarageType',\n",
       " 'GarageYrBlt',\n",
       " 'GarageFinish',\n",
       " 'GarageQual',\n",
       " 'GarageCond',\n",
       " 'PoolQC',\n",
       " 'Fence']"
      ]
     },
     "execution_count": 6,
     "metadata": {},
     "output_type": "execute_result"
    }
   ],
   "source": [
    "eksik_sutunlar = df1.columns[df1.isna().any()].tolist()\n",
    "eksik_sutunlar"
   ]
  },
  {
   "cell_type": "code",
   "execution_count": 7,
   "id": "e9378d62-dc47-4392-9db9-b029e06d1dfe",
   "metadata": {
    "tags": []
   },
   "outputs": [],
   "source": [
    "df1.replace({\"BsmtQual\": {None: \"NB\"}, \"BsmtCond\": {None: \"NB\"}, \"BsmtExposure\": {None: \"NB\"},\"BsmtFinType1\": {None: \"NB\"}, \"BsmtFinType2\": {None: \"NB\"},\n",
    "            \"GarageType\": {None: \"NG\"}, \"GarageFinish\": {None: \"NB\"}, \"GarageQual\": {None: \"NB\"},\"GarageCond\": {None: \"NB\"},\n",
    "            \"PoolQC\": {None: \"NP\"},\n",
    "            \"Fence\": {None: \"NF\"} }, inplace=True)\n",
    "# sözel değerler replace kullanarak NA değerleri verilerle uyumlu kısaltmalar ile yer değiştirildi"
   ]
  },
  {
   "cell_type": "code",
   "execution_count": 8,
   "id": "0bc5415b-9e07-4c26-b0d7-2d138ce3b9e6",
   "metadata": {
    "tags": []
   },
   "outputs": [],
   "source": [
    "df1['GarageYrBlt'].fillna(\"0\", inplace=True) # numeric değerlerin olduğu kolonda NA değere sahip olduğu için NA değeri fillna ile 0 ile değiştirdik"
   ]
  },
  {
   "cell_type": "code",
   "execution_count": 9,
   "id": "b0815920-1d02-4078-a707-16396923924c",
   "metadata": {
    "tags": []
   },
   "outputs": [
    {
     "data": {
      "text/plain": [
       "False"
      ]
     },
     "execution_count": 9,
     "metadata": {},
     "output_type": "execute_result"
    }
   ],
   "source": [
    "df1.isnull().any().any()"
   ]
  },
  {
   "cell_type": "code",
   "execution_count": 10,
   "id": "fe8c6352-1721-4e4c-91bd-00c7519bd886",
   "metadata": {
    "tags": []
   },
   "outputs": [],
   "source": [
    "df2 = df1.copy()"
   ]
  },
  {
   "cell_type": "markdown",
   "id": "c75a0a80-6f11-490a-89bc-9eb6720b9a0b",
   "metadata": {
    "tags": []
   },
   "source": [
    "## 3.2. Handling Outliers"
   ]
  },
  {
   "cell_type": "markdown",
   "id": "7f870774-ad44-4355-a2ac-4bbc291d280f",
   "metadata": {
    "tags": []
   },
   "source": [
    "**A Brief Explanation of the approach**\n",
    "\n",
    "........  \n",
    "........  \n",
    "........"
   ]
  },
  {
   "cell_type": "markdown",
   "id": "a83b6abe-d546-42bb-ad56-8120a474e715",
   "metadata": {},
   "source": [
    "**Codes with very short explanations, if needed**"
   ]
  },
  {
   "cell_type": "code",
   "execution_count": null,
   "id": "e452a7d8-7bc5-4617-a4eb-cdb6c049b025",
   "metadata": {},
   "outputs": [],
   "source": []
  },
  {
   "cell_type": "code",
   "execution_count": null,
   "id": "3ed330f4-a47f-4212-80dc-d42b1eeacfc8",
   "metadata": {},
   "outputs": [],
   "source": []
  },
  {
   "cell_type": "code",
   "execution_count": 6,
   "id": "0cfc0b5f-c201-42eb-9882-c769945421f4",
   "metadata": {},
   "outputs": [],
   "source": [
    "df2 = df1.copy()"
   ]
  },
  {
   "cell_type": "markdown",
   "id": "e06e202f-461b-4d5b-8ea3-d9b9f7fa7e0e",
   "metadata": {},
   "source": [
    "## 3.3. Feature Engineering"
   ]
  },
  {
   "cell_type": "markdown",
   "id": "6d1e2789-8b5b-4018-b44f-3965780c61f7",
   "metadata": {
    "tags": []
   },
   "source": [
    "**A Brief Explanation of the approach**\n",
    "\n",
    "........  \n",
    "........  \n",
    "........"
   ]
  },
  {
   "cell_type": "markdown",
   "id": "f22ca47a-36a8-4dac-8357-74742c901302",
   "metadata": {},
   "source": [
    "**Codes with very short explanations, if needed**"
   ]
  },
  {
   "cell_type": "markdown",
   "id": "983e3e74-fa69-451f-b7b1-2b9e2d28ae04",
   "metadata": {},
   "source": [
    "__3.3.1 Sub titles if needed__"
   ]
  },
  {
   "cell_type": "code",
   "execution_count": null,
   "id": "70a4aeba-df4f-41af-8abc-893fb9e0efb5",
   "metadata": {},
   "outputs": [],
   "source": []
  },
  {
   "cell_type": "markdown",
   "id": "1da6569e-c2e0-4b69-b4d9-c58f80bcf449",
   "metadata": {},
   "source": [
    "# 4. Exploratory data Analysis"
   ]
  },
  {
   "cell_type": "markdown",
   "id": "d69b13a8-9f98-47a7-ada9-c834eb06023a",
   "metadata": {
    "tags": []
   },
   "source": [
    "## Statistical Analysis And Visualisations"
   ]
  },
  {
   "cell_type": "code",
   "execution_count": null,
   "id": "196a9be3-657a-4eb1-b94c-06ff3124a84c",
   "metadata": {},
   "outputs": [],
   "source": []
  },
  {
   "cell_type": "code",
   "execution_count": null,
   "id": "2e5de450-4205-4b96-bbc1-0ce35b22f1f9",
   "metadata": {},
   "outputs": [],
   "source": []
  },
  {
   "cell_type": "markdown",
   "id": "dc55dee8-e9cf-4e92-aff6-3e554e6548c6",
   "metadata": {},
   "source": [
    "# 5. Feature Preprocessing"
   ]
  },
  {
   "cell_type": "markdown",
   "id": "2e28f3dc-f7ca-4abb-9ee1-55ea1258c51f",
   "metadata": {},
   "source": [
    "## 5.1. Encoding"
   ]
  },
  {
   "cell_type": "markdown",
   "id": "65c46e88-9310-434e-b8bc-4c00e4c27c4e",
   "metadata": {
    "tags": []
   },
   "source": [
    "**A Brief Explanation of the approach**\n",
    "\n",
    "........  \n",
    "........  \n",
    "........"
   ]
  },
  {
   "cell_type": "markdown",
   "id": "b1e10999-ce81-46b0-bed3-7d5c17b84a49",
   "metadata": {},
   "source": [
    "**Codes with very short explanations, if needed**"
   ]
  },
  {
   "cell_type": "code",
   "execution_count": null,
   "id": "c5ac0c3d-5269-4600-b507-7fc962581675",
   "metadata": {},
   "outputs": [],
   "source": []
  },
  {
   "cell_type": "code",
   "execution_count": null,
   "id": "43a261d2-3a9a-4d16-950e-da57534f7612",
   "metadata": {},
   "outputs": [],
   "source": []
  },
  {
   "cell_type": "code",
   "execution_count": null,
   "id": "f5c90b6f-0ad9-4539-aaa2-77aa822e2a20",
   "metadata": {},
   "outputs": [],
   "source": []
  },
  {
   "cell_type": "markdown",
   "id": "468e7c05-f14b-440b-939b-d6849fd6176b",
   "metadata": {
    "tags": []
   },
   "source": [
    "## 5.2. Standardizing, Normalizing and other Transformations"
   ]
  },
  {
   "cell_type": "markdown",
   "id": "94257a77-f4cc-400c-a68d-24bb6b721902",
   "metadata": {},
   "source": [
    "### 5.2.1. Standardizing (if needed)"
   ]
  },
  {
   "cell_type": "markdown",
   "id": "1169a98f-65f5-4c3a-9cb5-0284e2e2ae66",
   "metadata": {
    "tags": []
   },
   "source": [
    "**A Brief Explanation of the approach**\n",
    "\n",
    "........  \n",
    "........  \n",
    "........"
   ]
  },
  {
   "cell_type": "markdown",
   "id": "d3a6b075-c284-4a3c-ae7b-068bd5d1ee71",
   "metadata": {},
   "source": [
    "**Codes with very short explanations, if needed**"
   ]
  },
  {
   "cell_type": "code",
   "execution_count": null,
   "id": "a4a91c41-dbc7-4d26-b746-b3e08f14ab64",
   "metadata": {},
   "outputs": [],
   "source": []
  },
  {
   "cell_type": "code",
   "execution_count": null,
   "id": "7105efe4-ce72-429c-b259-beccb5a38043",
   "metadata": {},
   "outputs": [],
   "source": []
  },
  {
   "cell_type": "markdown",
   "id": "cbbf1e98-fcda-4983-85fa-5e6860e69243",
   "metadata": {},
   "source": [
    "### 5.2.2. Normalizing (if needed)"
   ]
  },
  {
   "cell_type": "markdown",
   "id": "5f1e89ca-44bf-4fac-ae89-27dd223acc22",
   "metadata": {
    "tags": []
   },
   "source": [
    "**A Brief Explanation of the approach**\n",
    "\n",
    "........  \n",
    "........  \n",
    "........"
   ]
  },
  {
   "cell_type": "markdown",
   "id": "f5e1771c-bc66-4f95-bf93-9875ce94bced",
   "metadata": {},
   "source": [
    "**Codes with very short explanations, if needed**"
   ]
  },
  {
   "cell_type": "code",
   "execution_count": null,
   "id": "116d16b8-4ce6-4a78-bd15-7d0818bdb694",
   "metadata": {},
   "outputs": [],
   "source": []
  },
  {
   "cell_type": "code",
   "execution_count": null,
   "id": "b0cde6c7-f88d-4551-b03e-63a5ce85782f",
   "metadata": {},
   "outputs": [],
   "source": []
  },
  {
   "cell_type": "code",
   "execution_count": null,
   "id": "83f4636f-0e15-4342-90bc-b14dc704bfaa",
   "metadata": {},
   "outputs": [],
   "source": []
  },
  {
   "cell_type": "markdown",
   "id": "d618eb63-bd6a-4c41-8c54-010d464fd885",
   "metadata": {},
   "source": [
    "### 5.2.3. Other Transformations (if needed)"
   ]
  },
  {
   "cell_type": "markdown",
   "id": "d68821e7-1a3d-401e-85ae-7336689e8c1e",
   "metadata": {
    "tags": []
   },
   "source": [
    "**A Brief Explanation of the approach**\n",
    "\n",
    "........  \n",
    "........  \n",
    "........"
   ]
  },
  {
   "cell_type": "markdown",
   "id": "352a6fd9-e399-4a9a-b4e0-3e0222affe38",
   "metadata": {},
   "source": [
    "**Codes with very short explanations, if needed**"
   ]
  },
  {
   "cell_type": "code",
   "execution_count": null,
   "id": "4871d2b8-da1c-4aaa-9fab-79c66c2f0f7f",
   "metadata": {},
   "outputs": [],
   "source": []
  },
  {
   "cell_type": "code",
   "execution_count": null,
   "id": "9c6957d3-37eb-43bd-8d6f-808acdc5521b",
   "metadata": {},
   "outputs": [],
   "source": []
  },
  {
   "cell_type": "code",
   "execution_count": null,
   "id": "10b33aeb-848f-4bd2-98f3-fa6aa4e40f39",
   "metadata": {},
   "outputs": [],
   "source": []
  },
  {
   "cell_type": "code",
   "execution_count": null,
   "id": "a0057641-3848-4df3-84c4-a0e8d85906fe",
   "metadata": {},
   "outputs": [],
   "source": []
  },
  {
   "cell_type": "markdown",
   "id": "9fdf1db6-a4ab-4bb1-8258-4f8b3194c3e1",
   "metadata": {
    "tags": []
   },
   "source": [
    "## 5.3. Dealing with High/Low Cardinality, Multi-collinearity"
   ]
  },
  {
   "cell_type": "markdown",
   "id": "d8d9d1d7-489e-41cf-bfd8-d77a43afc2e3",
   "metadata": {
    "tags": []
   },
   "source": [
    "**A Brief Explanation of the approach**\n",
    "\n",
    "........  \n",
    "........  \n",
    "........"
   ]
  },
  {
   "cell_type": "markdown",
   "id": "b3532adc-9df0-4f3b-a4dd-2daf5da5d6de",
   "metadata": {},
   "source": [
    "**Codes with very short explanations, if needed**"
   ]
  },
  {
   "cell_type": "code",
   "execution_count": null,
   "id": "1e2809e5-2805-42ee-ad7c-31b1fc1a7aaf",
   "metadata": {},
   "outputs": [],
   "source": []
  },
  {
   "cell_type": "code",
   "execution_count": null,
   "id": "f0192bdb-8464-474b-a74b-8f0d04fdc5e2",
   "metadata": {},
   "outputs": [],
   "source": []
  },
  {
   "cell_type": "markdown",
   "id": "7cc3fe9d-b4ac-467e-b1a7-91917f8388d5",
   "metadata": {},
   "source": [
    "----  \n",
    "----"
   ]
  },
  {
   "cell_type": "markdown",
   "id": "2a931414-c997-4706-9762-bf34d97e8727",
   "metadata": {},
   "source": [
    "# 6. Modeling"
   ]
  },
  {
   "cell_type": "code",
   "execution_count": null,
   "id": "279fa4c7-d9cf-4946-b653-5ba01c201ca7",
   "metadata": {},
   "outputs": [],
   "source": []
  }
 ],
 "metadata": {
  "kernelspec": {
   "display_name": "Python 3 (ipykernel)",
   "language": "python",
   "name": "python3"
  },
  "language_info": {
   "codemirror_mode": {
    "name": "ipython",
    "version": 3
   },
   "file_extension": ".py",
   "mimetype": "text/x-python",
   "name": "python",
   "nbconvert_exporter": "python",
   "pygments_lexer": "ipython3",
   "version": "3.10.8"
  }
 },
 "nbformat": 4,
 "nbformat_minor": 5
}
