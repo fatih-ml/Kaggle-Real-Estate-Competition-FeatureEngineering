{
 "cells": [
  {
   "cell_type": "markdown",
   "id": "34206f71-bab5-4d72-b81c-5f9a58dce64f",
   "metadata": {},
   "source": [
    "# KAGGLE: House Prices Explarotary Data Analysis"
   ]
  },
  {
   "cell_type": "markdown",
   "id": "e9c287ff-39e1-48be-a1a5-530553e4efb9",
   "metadata": {
    "tags": []
   },
   "source": [
    "# 1. Introduction and Problem Statement"
   ]
  },
  {
   "cell_type": "markdown",
   "id": "1107ff38-e0b2-431c-adfa-2ec7341c7748",
   "metadata": {},
   "source": [
    "Takim olarak, **Kaggle**'daki meshur projelerden birisi olan **'House Prices'** veri seti uzerinde calisacagiz.\n",
    "\n",
    "Bu proje, detaylı bir Keşifsel Veri Analizi (EDA) gerçekleştirerek başlayacak, ardından veri ön işleme adımlarını tamamlayarak veri setimizi makine öğrenmesi modellemesi için hazırlayacak ve sonrasinda da farkli algoritmalari ve makine ogrenmesi modellerini tatbik edecegimiz **bir takım projesidir.**"
   ]
  },
  {
   "cell_type": "markdown",
   "id": "c8817b11-7d71-4a60-8d97-f1a9b27b31fb",
   "metadata": {
    "tags": []
   },
   "source": [
    "Bu Kaggle projesi, **konut fiyatlarının tahmin edilmesi üzerine odaklanmaktadır.** Veri seti, farklı ev özelliklerini içeren geniş bir veri kümesini içermektedir. Özellikler arasında evin büyüklüğü, oda sayısı, konum gibi faktörler bulunmaktadır. Amacımız, bu özelliklerin bir evin fiyatını **nasıl etkilediğini belirlemek** ve bu bilgiyi kullanarak gelecekteki ev fiyatlarını tahmin etmektir.\n",
    "\n",
    "Yarışmanın amacı, katılımcıların belirtilen veri kümesi üzerinde bir makine öğrenmesi modeli geliştirerek, verilen ev özelliklerine dayanarak bir evin fiyatını en doğru şekilde tahmin etmeleridir. Bu proje, veri bilimi becerilerinizi geliştirmek, yeteneklerinizi sergilemek ve literature butunsel bir katki saglamak **için mükemmel bir fırsat sunmaktadir**. Ayrıca, farklı makine öğrenmesi tekniklerini uygulama ve model performansını değerlendirme fırsatı sunmaktadır. Katılımcılar olarak özellik mühendisliği, model seçimi ve değerlendirmesi gibi kritik veri bilimi becerilerini uygulama şansına sahip olacagiz."
   ]
  },
  {
   "cell_type": "markdown",
   "id": "4d7abd3b-f517-4b98-93f3-f21060e9de65",
   "metadata": {},
   "source": [
    "Projeyle ilgili daha detayli bilgi icin Kaggle sayfasina linkten ulasabilirsiniz. https://www.kaggle.com/competitions/house-prices-advanced-regression-techniques"
   ]
  },
  {
   "cell_type": "markdown",
   "id": "63ce1eb9-f117-4943-8b26-686aa94a9877",
   "metadata": {},
   "source": [
    "#### __Proje kapsaminda yapilacak bir takim gorevler:__\n",
    "\n",
    "* Veri on inceleme\n",
    "* Eksik verilerle basa cikilmasi  -  nur - seda       \n",
    "* Outlierlar ile basa cikilmasi  -  fatih              \n",
    "* Feature Engineering (Ozellik muhendisligi) -     busra + zubeyde + fatih + cuneyt emre\n",
    "* Istatistiksel analizler ve veri gorsellestirme  - seda nur \n",
    "* Encoding     -- burak\n",
    "* Standardizasyon ve Normalizasyon -- burak\n",
    "* High - Low Cardinality tespit edilmesi - tuba \n",
    "* Multicollinearity tespit edilmesi   - tuba\n",
    "* Logarithmic Donusum (Log Transormation)  - fatih\n",
    "* Github uzerinden takimca calisma becerileri"
   ]
  },
  {
   "cell_type": "markdown",
   "id": "6c100fde-406b-484c-ac88-ea484a4de823",
   "metadata": {},
   "source": [
    "**Is akisi**\n",
    "- Herkes veriyi ve projeyi genel anlamda inceleyecek\n",
    "- Missing value bolumu tamamlaninca buraya kodlari eklenecek\n",
    "- sonrasinda herkes githubtan dosyayi yeni bir branch ile kaydedecek\n",
    "- kendi bolumunuz uzerinde aciklama ve kod kisimlarini doldurabilirsiniz\n",
    "- sonrasinda tum calismayi birlestirecegiz\n",
    "\n",
    "- Lutfen oneri ve tavsiyelerimizi sunalim arkadaslar"
   ]
  },
  {
   "cell_type": "markdown",
   "id": "ed1631d1-a201-4667-ba52-1c0caa13366e",
   "metadata": {
    "tags": []
   },
   "source": [
    "# 2. Data Overview"
   ]
  },
  {
   "cell_type": "code",
   "execution_count": 6,
   "id": "e8d9b2b6-ece8-46e3-8388-8ca69b712ccc",
   "metadata": {
    "tags": []
   },
   "outputs": [],
   "source": [
    "import pandas as pd\n",
    "import numpy as np\n",
    "import matplotlib.pyplot as plt\n",
    "import seaborn as sns\n",
    "\n",
    "import warnings\n",
    "warnings.filterwarnings('ignore')"
   ]
  },
  {
   "cell_type": "code",
   "execution_count": 7,
   "id": "f2863b84-d078-4c93-8433-8544a115a6aa",
   "metadata": {
    "tags": []
   },
   "outputs": [],
   "source": [
    "pd.set_option('Display.max_columns', None)"
   ]
  },
  {
   "cell_type": "code",
   "execution_count": 8,
   "id": "9075f7e2-27ee-4d15-8dbf-18dd5c0f75dd",
   "metadata": {
    "tags": []
   },
   "outputs": [],
   "source": [
    "df1 = pd.read_csv('house_prices_reduced.csv')"
   ]
  },
  {
   "cell_type": "code",
   "execution_count": 9,
   "id": "17e8bf3d-801a-486b-80ae-e4f594f6ef54",
   "metadata": {},
   "outputs": [
    {
     "data": {
      "text/html": [
       "<div>\n",
       "<style scoped>\n",
       "    .dataframe tbody tr th:only-of-type {\n",
       "        vertical-align: middle;\n",
       "    }\n",
       "\n",
       "    .dataframe tbody tr th {\n",
       "        vertical-align: top;\n",
       "    }\n",
       "\n",
       "    .dataframe thead th {\n",
       "        text-align: right;\n",
       "    }\n",
       "</style>\n",
       "<table border=\"1\" class=\"dataframe\">\n",
       "  <thead>\n",
       "    <tr style=\"text-align: right;\">\n",
       "      <th></th>\n",
       "      <th>Id</th>\n",
       "      <th>LotArea</th>\n",
       "      <th>Neighborhood</th>\n",
       "      <th>HouseStyle</th>\n",
       "      <th>OverallQual</th>\n",
       "      <th>OverallCond</th>\n",
       "      <th>YearBuilt</th>\n",
       "      <th>YearRemodAdd</th>\n",
       "      <th>BsmtQual</th>\n",
       "      <th>BsmtCond</th>\n",
       "      <th>BsmtExposure</th>\n",
       "      <th>BsmtFinType1</th>\n",
       "      <th>BsmtFinSF1</th>\n",
       "      <th>BsmtFinType2</th>\n",
       "      <th>BsmtFinSF2</th>\n",
       "      <th>BsmtUnfSF</th>\n",
       "      <th>TotalBsmtSF</th>\n",
       "      <th>1stFlrSF</th>\n",
       "      <th>2ndFlrSF</th>\n",
       "      <th>GrLivArea</th>\n",
       "      <th>BsmtFullBath</th>\n",
       "      <th>BsmtHalfBath</th>\n",
       "      <th>FullBath</th>\n",
       "      <th>HalfBath</th>\n",
       "      <th>BedroomAbvGr</th>\n",
       "      <th>KitchenQual</th>\n",
       "      <th>TotRmsAbvGrd</th>\n",
       "      <th>GarageType</th>\n",
       "      <th>GarageYrBlt</th>\n",
       "      <th>GarageFinish</th>\n",
       "      <th>GarageCars</th>\n",
       "      <th>GarageArea</th>\n",
       "      <th>GarageQual</th>\n",
       "      <th>GarageCond</th>\n",
       "      <th>WoodDeckSF</th>\n",
       "      <th>OpenPorchSF</th>\n",
       "      <th>EnclosedPorch</th>\n",
       "      <th>3SsnPorch</th>\n",
       "      <th>ScreenPorch</th>\n",
       "      <th>PoolArea</th>\n",
       "      <th>PoolQC</th>\n",
       "      <th>Fence</th>\n",
       "      <th>MoSold</th>\n",
       "      <th>YrSold</th>\n",
       "      <th>SaleCondition</th>\n",
       "      <th>SalePrice</th>\n",
       "      <th>SaleType</th>\n",
       "    </tr>\n",
       "  </thead>\n",
       "  <tbody>\n",
       "    <tr>\n",
       "      <th>0</th>\n",
       "      <td>1</td>\n",
       "      <td>8450</td>\n",
       "      <td>CollgCr</td>\n",
       "      <td>2Story</td>\n",
       "      <td>7</td>\n",
       "      <td>5</td>\n",
       "      <td>2003</td>\n",
       "      <td>2003</td>\n",
       "      <td>Gd</td>\n",
       "      <td>TA</td>\n",
       "      <td>No</td>\n",
       "      <td>GLQ</td>\n",
       "      <td>706</td>\n",
       "      <td>Unf</td>\n",
       "      <td>0</td>\n",
       "      <td>150</td>\n",
       "      <td>856</td>\n",
       "      <td>856</td>\n",
       "      <td>854</td>\n",
       "      <td>1710</td>\n",
       "      <td>1</td>\n",
       "      <td>0</td>\n",
       "      <td>2</td>\n",
       "      <td>1</td>\n",
       "      <td>3</td>\n",
       "      <td>Gd</td>\n",
       "      <td>8</td>\n",
       "      <td>Attchd</td>\n",
       "      <td>2003.0</td>\n",
       "      <td>RFn</td>\n",
       "      <td>2</td>\n",
       "      <td>548</td>\n",
       "      <td>TA</td>\n",
       "      <td>TA</td>\n",
       "      <td>0</td>\n",
       "      <td>61</td>\n",
       "      <td>0</td>\n",
       "      <td>0</td>\n",
       "      <td>0</td>\n",
       "      <td>0</td>\n",
       "      <td>NaN</td>\n",
       "      <td>NaN</td>\n",
       "      <td>2</td>\n",
       "      <td>2008</td>\n",
       "      <td>Normal</td>\n",
       "      <td>208500</td>\n",
       "      <td>WD</td>\n",
       "    </tr>\n",
       "    <tr>\n",
       "      <th>1</th>\n",
       "      <td>2</td>\n",
       "      <td>9600</td>\n",
       "      <td>Veenker</td>\n",
       "      <td>1Story</td>\n",
       "      <td>6</td>\n",
       "      <td>8</td>\n",
       "      <td>1976</td>\n",
       "      <td>1976</td>\n",
       "      <td>Gd</td>\n",
       "      <td>TA</td>\n",
       "      <td>Gd</td>\n",
       "      <td>ALQ</td>\n",
       "      <td>978</td>\n",
       "      <td>Unf</td>\n",
       "      <td>0</td>\n",
       "      <td>284</td>\n",
       "      <td>1262</td>\n",
       "      <td>1262</td>\n",
       "      <td>0</td>\n",
       "      <td>1262</td>\n",
       "      <td>0</td>\n",
       "      <td>1</td>\n",
       "      <td>2</td>\n",
       "      <td>0</td>\n",
       "      <td>3</td>\n",
       "      <td>TA</td>\n",
       "      <td>6</td>\n",
       "      <td>Attchd</td>\n",
       "      <td>1976.0</td>\n",
       "      <td>RFn</td>\n",
       "      <td>2</td>\n",
       "      <td>460</td>\n",
       "      <td>TA</td>\n",
       "      <td>TA</td>\n",
       "      <td>298</td>\n",
       "      <td>0</td>\n",
       "      <td>0</td>\n",
       "      <td>0</td>\n",
       "      <td>0</td>\n",
       "      <td>0</td>\n",
       "      <td>NaN</td>\n",
       "      <td>NaN</td>\n",
       "      <td>5</td>\n",
       "      <td>2007</td>\n",
       "      <td>Normal</td>\n",
       "      <td>181500</td>\n",
       "      <td>WD</td>\n",
       "    </tr>\n",
       "    <tr>\n",
       "      <th>2</th>\n",
       "      <td>3</td>\n",
       "      <td>11250</td>\n",
       "      <td>CollgCr</td>\n",
       "      <td>2Story</td>\n",
       "      <td>7</td>\n",
       "      <td>5</td>\n",
       "      <td>2001</td>\n",
       "      <td>2002</td>\n",
       "      <td>Gd</td>\n",
       "      <td>TA</td>\n",
       "      <td>Mn</td>\n",
       "      <td>GLQ</td>\n",
       "      <td>486</td>\n",
       "      <td>Unf</td>\n",
       "      <td>0</td>\n",
       "      <td>434</td>\n",
       "      <td>920</td>\n",
       "      <td>920</td>\n",
       "      <td>866</td>\n",
       "      <td>1786</td>\n",
       "      <td>1</td>\n",
       "      <td>0</td>\n",
       "      <td>2</td>\n",
       "      <td>1</td>\n",
       "      <td>3</td>\n",
       "      <td>Gd</td>\n",
       "      <td>6</td>\n",
       "      <td>Attchd</td>\n",
       "      <td>2001.0</td>\n",
       "      <td>RFn</td>\n",
       "      <td>2</td>\n",
       "      <td>608</td>\n",
       "      <td>TA</td>\n",
       "      <td>TA</td>\n",
       "      <td>0</td>\n",
       "      <td>42</td>\n",
       "      <td>0</td>\n",
       "      <td>0</td>\n",
       "      <td>0</td>\n",
       "      <td>0</td>\n",
       "      <td>NaN</td>\n",
       "      <td>NaN</td>\n",
       "      <td>9</td>\n",
       "      <td>2008</td>\n",
       "      <td>Normal</td>\n",
       "      <td>223500</td>\n",
       "      <td>WD</td>\n",
       "    </tr>\n",
       "    <tr>\n",
       "      <th>3</th>\n",
       "      <td>4</td>\n",
       "      <td>9550</td>\n",
       "      <td>Crawfor</td>\n",
       "      <td>2Story</td>\n",
       "      <td>7</td>\n",
       "      <td>5</td>\n",
       "      <td>1915</td>\n",
       "      <td>1970</td>\n",
       "      <td>TA</td>\n",
       "      <td>Gd</td>\n",
       "      <td>No</td>\n",
       "      <td>ALQ</td>\n",
       "      <td>216</td>\n",
       "      <td>Unf</td>\n",
       "      <td>0</td>\n",
       "      <td>540</td>\n",
       "      <td>756</td>\n",
       "      <td>961</td>\n",
       "      <td>756</td>\n",
       "      <td>1717</td>\n",
       "      <td>1</td>\n",
       "      <td>0</td>\n",
       "      <td>1</td>\n",
       "      <td>0</td>\n",
       "      <td>3</td>\n",
       "      <td>Gd</td>\n",
       "      <td>7</td>\n",
       "      <td>Detchd</td>\n",
       "      <td>1998.0</td>\n",
       "      <td>Unf</td>\n",
       "      <td>3</td>\n",
       "      <td>642</td>\n",
       "      <td>TA</td>\n",
       "      <td>TA</td>\n",
       "      <td>0</td>\n",
       "      <td>35</td>\n",
       "      <td>272</td>\n",
       "      <td>0</td>\n",
       "      <td>0</td>\n",
       "      <td>0</td>\n",
       "      <td>NaN</td>\n",
       "      <td>NaN</td>\n",
       "      <td>2</td>\n",
       "      <td>2006</td>\n",
       "      <td>Abnorml</td>\n",
       "      <td>140000</td>\n",
       "      <td>WD</td>\n",
       "    </tr>\n",
       "    <tr>\n",
       "      <th>4</th>\n",
       "      <td>5</td>\n",
       "      <td>14260</td>\n",
       "      <td>NoRidge</td>\n",
       "      <td>2Story</td>\n",
       "      <td>8</td>\n",
       "      <td>5</td>\n",
       "      <td>2000</td>\n",
       "      <td>2000</td>\n",
       "      <td>Gd</td>\n",
       "      <td>TA</td>\n",
       "      <td>Av</td>\n",
       "      <td>GLQ</td>\n",
       "      <td>655</td>\n",
       "      <td>Unf</td>\n",
       "      <td>0</td>\n",
       "      <td>490</td>\n",
       "      <td>1145</td>\n",
       "      <td>1145</td>\n",
       "      <td>1053</td>\n",
       "      <td>2198</td>\n",
       "      <td>1</td>\n",
       "      <td>0</td>\n",
       "      <td>2</td>\n",
       "      <td>1</td>\n",
       "      <td>4</td>\n",
       "      <td>Gd</td>\n",
       "      <td>9</td>\n",
       "      <td>Attchd</td>\n",
       "      <td>2000.0</td>\n",
       "      <td>RFn</td>\n",
       "      <td>3</td>\n",
       "      <td>836</td>\n",
       "      <td>TA</td>\n",
       "      <td>TA</td>\n",
       "      <td>192</td>\n",
       "      <td>84</td>\n",
       "      <td>0</td>\n",
       "      <td>0</td>\n",
       "      <td>0</td>\n",
       "      <td>0</td>\n",
       "      <td>NaN</td>\n",
       "      <td>NaN</td>\n",
       "      <td>12</td>\n",
       "      <td>2008</td>\n",
       "      <td>Normal</td>\n",
       "      <td>250000</td>\n",
       "      <td>WD</td>\n",
       "    </tr>\n",
       "  </tbody>\n",
       "</table>\n",
       "</div>"
      ],
      "text/plain": [
       "   Id  LotArea Neighborhood HouseStyle  OverallQual  OverallCond  YearBuilt  \\\n",
       "0   1     8450      CollgCr     2Story            7            5       2003   \n",
       "1   2     9600      Veenker     1Story            6            8       1976   \n",
       "2   3    11250      CollgCr     2Story            7            5       2001   \n",
       "3   4     9550      Crawfor     2Story            7            5       1915   \n",
       "4   5    14260      NoRidge     2Story            8            5       2000   \n",
       "\n",
       "   YearRemodAdd BsmtQual BsmtCond BsmtExposure BsmtFinType1  BsmtFinSF1  \\\n",
       "0          2003       Gd       TA           No          GLQ         706   \n",
       "1          1976       Gd       TA           Gd          ALQ         978   \n",
       "2          2002       Gd       TA           Mn          GLQ         486   \n",
       "3          1970       TA       Gd           No          ALQ         216   \n",
       "4          2000       Gd       TA           Av          GLQ         655   \n",
       "\n",
       "  BsmtFinType2  BsmtFinSF2  BsmtUnfSF  TotalBsmtSF  1stFlrSF  2ndFlrSF  \\\n",
       "0          Unf           0        150          856       856       854   \n",
       "1          Unf           0        284         1262      1262         0   \n",
       "2          Unf           0        434          920       920       866   \n",
       "3          Unf           0        540          756       961       756   \n",
       "4          Unf           0        490         1145      1145      1053   \n",
       "\n",
       "   GrLivArea  BsmtFullBath  BsmtHalfBath  FullBath  HalfBath  BedroomAbvGr  \\\n",
       "0       1710             1             0         2         1             3   \n",
       "1       1262             0             1         2         0             3   \n",
       "2       1786             1             0         2         1             3   \n",
       "3       1717             1             0         1         0             3   \n",
       "4       2198             1             0         2         1             4   \n",
       "\n",
       "  KitchenQual  TotRmsAbvGrd GarageType  GarageYrBlt GarageFinish  GarageCars  \\\n",
       "0          Gd             8     Attchd       2003.0          RFn           2   \n",
       "1          TA             6     Attchd       1976.0          RFn           2   \n",
       "2          Gd             6     Attchd       2001.0          RFn           2   \n",
       "3          Gd             7     Detchd       1998.0          Unf           3   \n",
       "4          Gd             9     Attchd       2000.0          RFn           3   \n",
       "\n",
       "   GarageArea GarageQual GarageCond  WoodDeckSF  OpenPorchSF  EnclosedPorch  \\\n",
       "0         548         TA         TA           0           61              0   \n",
       "1         460         TA         TA         298            0              0   \n",
       "2         608         TA         TA           0           42              0   \n",
       "3         642         TA         TA           0           35            272   \n",
       "4         836         TA         TA         192           84              0   \n",
       "\n",
       "   3SsnPorch  ScreenPorch  PoolArea PoolQC Fence  MoSold  YrSold  \\\n",
       "0          0            0         0    NaN   NaN       2    2008   \n",
       "1          0            0         0    NaN   NaN       5    2007   \n",
       "2          0            0         0    NaN   NaN       9    2008   \n",
       "3          0            0         0    NaN   NaN       2    2006   \n",
       "4          0            0         0    NaN   NaN      12    2008   \n",
       "\n",
       "  SaleCondition  SalePrice SaleType  \n",
       "0        Normal     208500       WD  \n",
       "1        Normal     181500       WD  \n",
       "2        Normal     223500       WD  \n",
       "3       Abnorml     140000       WD  \n",
       "4        Normal     250000       WD  "
      ]
     },
     "execution_count": 9,
     "metadata": {},
     "output_type": "execute_result"
    }
   ],
   "source": [
    "df1.head()"
   ]
  },
  {
   "cell_type": "markdown",
   "id": "b0e7ad73-33b6-4f03-b37b-69f47952dc90",
   "metadata": {},
   "source": [
    "# 3. Data Preprocessing"
   ]
  },
  {
   "cell_type": "markdown",
   "id": "c75a0a80-6f11-490a-89bc-9eb6720b9a0b",
   "metadata": {
    "tags": []
   },
   "source": [
    "## 3.1. Handling Outliers"
   ]
  },
  {
   "cell_type": "markdown",
   "id": "7f870774-ad44-4355-a2ac-4bbc291d280f",
   "metadata": {
    "tags": []
   },
   "source": [
    "**A Brief Explanation of the approach**\n",
    "\n",
    "........  \n",
    "........  \n",
    "........"
   ]
  },
  {
   "cell_type": "markdown",
   "id": "a83b6abe-d546-42bb-ad56-8120a474e715",
   "metadata": {},
   "source": [
    "**Codes with very short explanations, if needed**"
   ]
  },
  {
   "cell_type": "code",
   "execution_count": null,
   "id": "e452a7d8-7bc5-4617-a4eb-cdb6c049b025",
   "metadata": {},
   "outputs": [],
   "source": []
  },
  {
   "cell_type": "code",
   "execution_count": null,
   "id": "3ed330f4-a47f-4212-80dc-d42b1eeacfc8",
   "metadata": {},
   "outputs": [],
   "source": []
  },
  {
   "cell_type": "code",
   "execution_count": null,
   "id": "0cfc0b5f-c201-42eb-9882-c769945421f4",
   "metadata": {},
   "outputs": [],
   "source": []
  },
  {
   "cell_type": "markdown",
   "id": "eba871d3-b568-4f60-829c-7ab643da52fe",
   "metadata": {},
   "source": [
    "## 3.2. Handling Missing Values"
   ]
  },
  {
   "cell_type": "markdown",
   "id": "ce2ba179-73ef-4461-8cba-c6b231502222",
   "metadata": {
    "tags": []
   },
   "source": [
    "**A Brief Explanation of the approach**\n",
    "\n",
    "........  \n",
    "........  \n",
    "........"
   ]
  },
  {
   "cell_type": "markdown",
   "id": "91087498-8434-4d00-b82c-95f9902e1f7f",
   "metadata": {},
   "source": [
    "**Codes with very short explanations, if needed**"
   ]
  },
  {
   "cell_type": "code",
   "execution_count": null,
   "id": "caea14fd-adcd-468f-83a3-6e581d2d8731",
   "metadata": {},
   "outputs": [],
   "source": []
  },
  {
   "cell_type": "code",
   "execution_count": null,
   "id": "bb6b32ac-46d5-4a09-b6ba-a31845df4adb",
   "metadata": {},
   "outputs": [],
   "source": []
  },
  {
   "cell_type": "code",
   "execution_count": null,
   "id": "7348c745-f388-41ae-abbf-3e7e899e09cd",
   "metadata": {},
   "outputs": [],
   "source": []
  },
  {
   "cell_type": "markdown",
   "id": "e06e202f-461b-4d5b-8ea3-d9b9f7fa7e0e",
   "metadata": {},
   "source": [
    "## 3.3. Feature Engineering"
   ]
  },
  {
   "cell_type": "markdown",
   "id": "6d1e2789-8b5b-4018-b44f-3965780c61f7",
   "metadata": {
    "tags": []
   },
   "source": [
    "**A Brief Explanation of the approach**\n",
    "\n",
    "........  \n",
    "........  \n",
    "........"
   ]
  },
  {
   "cell_type": "markdown",
   "id": "f22ca47a-36a8-4dac-8357-74742c901302",
   "metadata": {},
   "source": [
    "**Codes with very short explanations, if needed**"
   ]
  },
  {
   "cell_type": "markdown",
   "id": "983e3e74-fa69-451f-b7b1-2b9e2d28ae04",
   "metadata": {},
   "source": [
    "__3.3.1 Sub titles if needed__"
   ]
  },
  {
   "cell_type": "code",
   "execution_count": null,
   "id": "70a4aeba-df4f-41af-8abc-893fb9e0efb5",
   "metadata": {},
   "outputs": [],
   "source": []
  },
  {
   "cell_type": "markdown",
   "id": "1da6569e-c2e0-4b69-b4d9-c58f80bcf449",
   "metadata": {},
   "source": [
    "# 4. Exploratory data Analysis"
   ]
  },
  {
   "cell_type": "markdown",
   "id": "d69b13a8-9f98-47a7-ada9-c834eb06023a",
   "metadata": {
    "tags": []
   },
   "source": [
    "## Statistical Analysis And Visualisations"
   ]
  },
  {
   "cell_type": "code",
   "execution_count": null,
   "id": "196a9be3-657a-4eb1-b94c-06ff3124a84c",
   "metadata": {},
   "outputs": [],
   "source": []
  },
  {
   "cell_type": "code",
   "execution_count": null,
   "id": "2e5de450-4205-4b96-bbc1-0ce35b22f1f9",
   "metadata": {},
   "outputs": [],
   "source": []
  },
  {
   "cell_type": "markdown",
   "id": "dc55dee8-e9cf-4e92-aff6-3e554e6548c6",
   "metadata": {},
   "source": [
    "# 5. Feature Preprocessing"
   ]
  },
  {
   "cell_type": "markdown",
   "id": "2e28f3dc-f7ca-4abb-9ee1-55ea1258c51f",
   "metadata": {},
   "source": [
    "## 5.1. Encoding"
   ]
  },
  {
   "cell_type": "markdown",
   "id": "65c46e88-9310-434e-b8bc-4c00e4c27c4e",
   "metadata": {
    "tags": []
   },
   "source": [
    "**A Brief Explanation of the approach**\n",
    "\n",
    "........  \n",
    "........  \n",
    "........"
   ]
  },
  {
   "cell_type": "markdown",
   "id": "b1e10999-ce81-46b0-bed3-7d5c17b84a49",
   "metadata": {},
   "source": [
    "**Codes with very short explanations, if needed**"
   ]
  },
  {
   "cell_type": "code",
   "execution_count": null,
   "id": "c5ac0c3d-5269-4600-b507-7fc962581675",
   "metadata": {},
   "outputs": [],
   "source": []
  },
  {
   "cell_type": "code",
   "execution_count": null,
   "id": "43a261d2-3a9a-4d16-950e-da57534f7612",
   "metadata": {},
   "outputs": [],
   "source": []
  },
  {
   "cell_type": "code",
   "execution_count": null,
   "id": "f5c90b6f-0ad9-4539-aaa2-77aa822e2a20",
   "metadata": {},
   "outputs": [],
   "source": []
  },
  {
   "cell_type": "markdown",
   "id": "468e7c05-f14b-440b-939b-d6849fd6176b",
   "metadata": {
    "tags": []
   },
   "source": [
    "## 5.2. Standardizing, Normalizing and other Transformations"
   ]
  },
  {
   "cell_type": "markdown",
   "id": "94257a77-f4cc-400c-a68d-24bb6b721902",
   "metadata": {},
   "source": [
    "### 5.2.1. Standardizing (if needed)"
   ]
  },
  {
   "cell_type": "markdown",
   "id": "1169a98f-65f5-4c3a-9cb5-0284e2e2ae66",
   "metadata": {
    "tags": []
   },
   "source": [
    "**A Brief Explanation of the approach**\n",
    "\n",
    "........  \n",
    "........  \n",
    "........"
   ]
  },
  {
   "cell_type": "markdown",
   "id": "d3a6b075-c284-4a3c-ae7b-068bd5d1ee71",
   "metadata": {},
   "source": [
    "**Codes with very short explanations, if needed**"
   ]
  },
  {
   "cell_type": "code",
   "execution_count": null,
   "id": "a4a91c41-dbc7-4d26-b746-b3e08f14ab64",
   "metadata": {},
   "outputs": [],
   "source": []
  },
  {
   "cell_type": "code",
   "execution_count": null,
   "id": "7105efe4-ce72-429c-b259-beccb5a38043",
   "metadata": {},
   "outputs": [],
   "source": []
  },
  {
   "cell_type": "markdown",
   "id": "cbbf1e98-fcda-4983-85fa-5e6860e69243",
   "metadata": {},
   "source": [
    "### 5.2.2. Normalizing (if needed)"
   ]
  },
  {
   "cell_type": "markdown",
   "id": "5f1e89ca-44bf-4fac-ae89-27dd223acc22",
   "metadata": {
    "tags": []
   },
   "source": [
    "**A Brief Explanation of the approach**\n",
    "\n",
    "........  \n",
    "........  \n",
    "........"
   ]
  },
  {
   "cell_type": "markdown",
   "id": "f5e1771c-bc66-4f95-bf93-9875ce94bced",
   "metadata": {},
   "source": [
    "**Codes with very short explanations, if needed**"
   ]
  },
  {
   "cell_type": "code",
   "execution_count": null,
   "id": "116d16b8-4ce6-4a78-bd15-7d0818bdb694",
   "metadata": {},
   "outputs": [],
   "source": []
  },
  {
   "cell_type": "code",
   "execution_count": null,
   "id": "b0cde6c7-f88d-4551-b03e-63a5ce85782f",
   "metadata": {},
   "outputs": [],
   "source": []
  },
  {
   "cell_type": "code",
   "execution_count": null,
   "id": "83f4636f-0e15-4342-90bc-b14dc704bfaa",
   "metadata": {},
   "outputs": [],
   "source": []
  },
  {
   "cell_type": "markdown",
   "id": "d618eb63-bd6a-4c41-8c54-010d464fd885",
   "metadata": {},
   "source": [
    "### 5.2.3. Other Transformations (if needed)"
   ]
  },
  {
   "cell_type": "markdown",
   "id": "d68821e7-1a3d-401e-85ae-7336689e8c1e",
   "metadata": {
    "tags": []
   },
   "source": [
    "**A Brief Explanation of the approach**\n",
    "\n",
    "........  \n",
    "........  \n",
    "........"
   ]
  },
  {
   "cell_type": "markdown",
   "id": "352a6fd9-e399-4a9a-b4e0-3e0222affe38",
   "metadata": {},
   "source": [
    "**Codes with very short explanations, if needed**"
   ]
  },
  {
   "cell_type": "code",
   "execution_count": null,
   "id": "4871d2b8-da1c-4aaa-9fab-79c66c2f0f7f",
   "metadata": {},
   "outputs": [],
   "source": []
  },
  {
   "cell_type": "code",
   "execution_count": null,
   "id": "9c6957d3-37eb-43bd-8d6f-808acdc5521b",
   "metadata": {},
   "outputs": [],
   "source": []
  },
  {
   "cell_type": "code",
   "execution_count": null,
   "id": "10b33aeb-848f-4bd2-98f3-fa6aa4e40f39",
   "metadata": {},
   "outputs": [],
   "source": []
  },
  {
   "cell_type": "code",
   "execution_count": null,
   "id": "a0057641-3848-4df3-84c4-a0e8d85906fe",
   "metadata": {},
   "outputs": [],
   "source": []
  },
  {
   "cell_type": "markdown",
   "id": "9fdf1db6-a4ab-4bb1-8258-4f8b3194c3e1",
   "metadata": {
    "tags": []
   },
   "source": [
    "## 5.3. Dealing with High/Low Cardinality, Multi-collinearity"
   ]
  },
  {
   "cell_type": "markdown",
   "id": "d8d9d1d7-489e-41cf-bfd8-d77a43afc2e3",
   "metadata": {
    "tags": []
   },
   "source": [
    "**A Brief Explanation of the approach**\n",
    "\n",
    "........  \n",
    "........  \n",
    "........"
   ]
  },
  {
   "cell_type": "markdown",
   "id": "b3532adc-9df0-4f3b-a4dd-2daf5da5d6de",
   "metadata": {},
   "source": [
    "**Codes with very short explanations, if needed**"
   ]
  },
  {
   "cell_type": "code",
   "execution_count": null,
   "id": "1e2809e5-2805-42ee-ad7c-31b1fc1a7aaf",
   "metadata": {},
   "outputs": [],
   "source": []
  },
  {
   "cell_type": "code",
   "execution_count": null,
   "id": "f0192bdb-8464-474b-a74b-8f0d04fdc5e2",
   "metadata": {},
   "outputs": [],
   "source": []
  },
  {
   "cell_type": "markdown",
   "id": "7cc3fe9d-b4ac-467e-b1a7-91917f8388d5",
   "metadata": {},
   "source": [
    "----  \n",
    "----"
   ]
  },
  {
   "cell_type": "markdown",
   "id": "2a931414-c997-4706-9762-bf34d97e8727",
   "metadata": {},
   "source": [
    "# 6. Modeling"
   ]
  },
  {
   "cell_type": "code",
   "execution_count": null,
   "id": "279fa4c7-d9cf-4946-b653-5ba01c201ca7",
   "metadata": {},
   "outputs": [],
   "source": []
  }
 ],
 "metadata": {
  "kernelspec": {
   "display_name": "Python 3 (ipykernel)",
   "language": "python",
   "name": "python3"
  },
  "language_info": {
   "codemirror_mode": {
    "name": "ipython",
    "version": 3
   },
   "file_extension": ".py",
   "mimetype": "text/x-python",
   "name": "python",
   "nbconvert_exporter": "python",
   "pygments_lexer": "ipython3",
   "version": "3.10.8"
  }
 },
 "nbformat": 4,
 "nbformat_minor": 5
}
